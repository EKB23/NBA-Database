{
 "cells": [
  {
   "cell_type": "code",
   "execution_count": 15,
   "id": "0b1d94b9-e0af-45d6-9398-7c00818587d3",
   "metadata": {},
   "outputs": [
    {
     "name": "stdout",
     "output_type": "stream",
     "text": [
      "Requirement already satisfied: selenium in c:\\users\\ericr\\anaconda3\\lib\\site-packages (4.9.1)\n",
      "Requirement already satisfied: urllib3[socks]<3,>=1.26 in c:\\users\\ericr\\anaconda3\\lib\\site-packages (from selenium) (1.26.15)\n",
      "Requirement already satisfied: trio-websocket~=0.9 in c:\\users\\ericr\\anaconda3\\lib\\site-packages (from selenium) (0.10.2)\n",
      "Requirement already satisfied: certifi>=2021.10.8 in c:\\users\\ericr\\anaconda3\\lib\\site-packages (from selenium) (2023.5.7)\n",
      "Requirement already satisfied: trio~=0.17 in c:\\users\\ericr\\anaconda3\\lib\\site-packages (from selenium) (0.22.0)\n",
      "Requirement already satisfied: idna in c:\\users\\ericr\\anaconda3\\lib\\site-packages (from trio~=0.17->selenium) (3.4)\n",
      "Requirement already satisfied: async-generator>=1.9 in c:\\users\\ericr\\anaconda3\\lib\\site-packages (from trio~=0.17->selenium) (1.10)\n",
      "Requirement already satisfied: attrs>=19.2.0 in c:\\users\\ericr\\anaconda3\\lib\\site-packages (from trio~=0.17->selenium) (22.1.0)\n",
      "Requirement already satisfied: exceptiongroup>=1.0.0rc9 in c:\\users\\ericr\\anaconda3\\lib\\site-packages (from trio~=0.17->selenium) (1.1.1)\n",
      "Requirement already satisfied: sniffio in c:\\users\\ericr\\anaconda3\\lib\\site-packages (from trio~=0.17->selenium) (1.2.0)\n",
      "Requirement already satisfied: sortedcontainers in c:\\users\\ericr\\anaconda3\\lib\\site-packages (from trio~=0.17->selenium) (2.4.0)\n",
      "Requirement already satisfied: cffi>=1.14 in c:\\users\\ericr\\anaconda3\\lib\\site-packages (from trio~=0.17->selenium) (1.15.1)\n",
      "Requirement already satisfied: outcome in c:\\users\\ericr\\anaconda3\\lib\\site-packages (from trio~=0.17->selenium) (1.2.0)\n",
      "Requirement already satisfied: wsproto>=0.14 in c:\\users\\ericr\\anaconda3\\lib\\site-packages (from trio-websocket~=0.9->selenium) (1.2.0)\n",
      "Requirement already satisfied: PySocks!=1.5.7,<2.0,>=1.5.6 in c:\\users\\ericr\\anaconda3\\lib\\site-packages (from urllib3[socks]<3,>=1.26->selenium) (1.7.1)\n",
      "Requirement already satisfied: pycparser in c:\\users\\ericr\\anaconda3\\lib\\site-packages (from cffi>=1.14->trio~=0.17->selenium) (2.21)\n",
      "Requirement already satisfied: h11<1,>=0.9.0 in c:\\users\\ericr\\anaconda3\\lib\\site-packages (from wsproto>=0.14->trio-websocket~=0.9->selenium) (0.14.0)\n",
      "Requirement already satisfied: pandas in c:\\users\\ericr\\anaconda3\\lib\\site-packages (2.0.2)\n",
      "Requirement already satisfied: python-dateutil>=2.8.2 in c:\\users\\ericr\\anaconda3\\lib\\site-packages (from pandas) (2.8.2)\n",
      "Requirement already satisfied: pytz>=2020.1 in c:\\users\\ericr\\anaconda3\\lib\\site-packages (from pandas) (2022.7)\n",
      "Requirement already satisfied: numpy>=1.21.0 in c:\\users\\ericr\\anaconda3\\lib\\site-packages (from pandas) (1.24.3)\n",
      "Requirement already satisfied: tzdata>=2022.1 in c:\\users\\ericr\\anaconda3\\lib\\site-packages (from pandas) (2023.3)\n",
      "Requirement already satisfied: six>=1.5 in c:\\users\\ericr\\anaconda3\\lib\\site-packages (from python-dateutil>=2.8.2->pandas) (1.16.0)\n",
      "Requirement already satisfied: unidecode in c:\\users\\ericr\\anaconda3\\lib\\site-packages (1.3.6)\n"
     ]
    }
   ],
   "source": [
    "!pip install selenium\n",
    "from selenium import webdriver\n",
    "from selenium.webdriver.common.keys import Keys\n",
    "import time\n",
    "import requests\n",
    "import shutil\n",
    "import time\n",
    "!pip install pandas\n",
    "import pandas as pd\n",
    "!pip install unidecode\n",
    "import unidecode"
   ]
  },
  {
   "cell_type": "code",
   "execution_count": 2,
   "id": "fd6a1458-ffb3-439e-b99c-8b3cc2f481a4",
   "metadata": {},
   "outputs": [
    {
     "name": "stderr",
     "output_type": "stream",
     "text": [
      "C:\\Users\\ericr\\AppData\\Local\\Temp\\ipykernel_10376\\2497404269.py:1: DeprecationWarning: executable_path has been deprecated, please pass in a Service object\n",
      "  driver = webdriver.Chrome(\n"
     ]
    }
   ],
   "source": [
    "driver = webdriver.Chrome(\n",
    "    executable_path=\"/Users/ericr/chromedriver_32/chromedriver\"\n",
    "    )"
   ]
  },
  {
   "cell_type": "code",
   "execution_count": 16,
   "id": "01bd9d10-aa50-4725-a711-5d678a8aa944",
   "metadata": {},
   "outputs": [],
   "source": [
    "years = list(range(1962, 2024))"
   ]
  },
  {
   "cell_type": "code",
   "execution_count": 14,
   "id": "4e26841f-53e9-45b5-ad17-093a4b6d8793",
   "metadata": {},
   "outputs": [],
   "source": [
    "team_stats_url = \"https://www.basketball-reference.com/teams/CAP/{}.html\"\n",
    "\n",
    "for year in years:\n",
    "    url = team_stats_url.format(year)\n",
    "    \n",
    "    driver.get(url)\n",
    "    driver.execute_script(\"window.scrollTo(1,10000)\")\n",
    "    time.sleep(15)\n",
    "    \n",
    "    with open(\"WAS/{}.html\".format(year), \"w+\", encoding=\"utf-8\") as f:\n",
    "        f.write(driver.page_source)"
   ]
  },
  {
   "cell_type": "code",
   "execution_count": 17,
   "id": "9a1369a6-7869-45d7-a6c6-edb73345f56e",
   "metadata": {},
   "outputs": [],
   "source": [
    "from bs4 import BeautifulSoup\n",
    "\n",
    "dfs = []\n",
    "for year in years:\n",
    "    with open(\"../WAS/{}.html\".format(year), encoding=\"utf-8\") as f:\n",
    "        page = f.read()\n",
    "    \n",
    "    soup = BeautifulSoup(page, 'html.parser')\n",
    "    player_table = soup.find_all(id=\"div_per_game\")[0]\n",
    "    player_df = pd.read_html(str(player_table))[0]\n",
    "    player_df[\"Year\"] = year\n",
    "    dfs.append(player_df)"
   ]
  },
  {
   "cell_type": "code",
   "execution_count": 18,
   "id": "8e7305c0-d297-4c77-a4de-6b9f2742f544",
   "metadata": {},
   "outputs": [],
   "source": [
    "per_game_stats = pd.concat(dfs)\n",
    "per_game_stats.head()\n",
    "per_game_stats.tail()\n",
    "\n",
    "per_game_stats.to_csv(\"was_per_game_stats.csv\")\n",
    "\n",
    "players = pd.read_csv(\"was_per_game_stats.csv\")\n",
    "players.head()\n",
    "from unidecode import unidecode\n",
    "players['Player'] = players['Player'].apply(unidecode)\n",
    "#players['Unnamed: 1'] = players['Unnamed: 1'].apply(unidecode)\n",
    "players.to_csv(\"was_per_game_stats.csv\")"
   ]
  },
  {
   "cell_type": "code",
   "execution_count": 19,
   "id": "9c42092b-6981-4f70-8f2e-707563ea474d",
   "metadata": {},
   "outputs": [],
   "source": [
    "from bs4 import BeautifulSoup\n",
    "\n",
    "dfs = []\n",
    "for year in years:\n",
    "    with open(\"../WAS/{}.html\".format(year), encoding=\"utf-8\") as f:\n",
    "        page = f.read()\n",
    "    \n",
    "    soup = BeautifulSoup(page, 'html.parser')\n",
    "    player_table = soup.find_all(id=\"div_team_and_opponent\")[0]\n",
    "    player_df = pd.read_html(str(player_table))[0]\n",
    "    player_df[\"Year\"] = year\n",
    "    dfs.append(player_df)"
   ]
  },
  {
   "cell_type": "code",
   "execution_count": 20,
   "id": "dd81c4ab-d8f1-46a7-88de-2018f1ae04d2",
   "metadata": {},
   "outputs": [],
   "source": [
    "team_opponents_stats = pd.concat(dfs)\n",
    "team_opponents_stats.head()\n",
    "team_opponents_stats.tail()\n",
    "team_opponents_stats.to_csv(\"was_team_opponents_stats.csv\")"
   ]
  },
  {
   "cell_type": "code",
   "execution_count": 21,
   "id": "2723a822-6457-4bf6-9cfe-214fcc82de1b",
   "metadata": {},
   "outputs": [],
   "source": [
    "from bs4 import BeautifulSoup\n",
    "\n",
    "dfs = []\n",
    "for year in years:\n",
    "    with open(\"../WAS/{}.html\".format(year), encoding=\"utf-8\") as f:\n",
    "        page = f.read()\n",
    "    \n",
    "    soup = BeautifulSoup(page, 'html.parser')\n",
    "    player_table = soup.find_all(id=\"div_totals\")[0]\n",
    "    player_df = pd.read_html(str(player_table))[0][:-1]\n",
    "    player_df[\"Year\"] = year\n",
    "    dfs.append(player_df)"
   ]
  },
  {
   "cell_type": "code",
   "execution_count": 22,
   "id": "da0139d1-0c5d-4bae-837c-056936fc1a85",
   "metadata": {},
   "outputs": [],
   "source": [
    "totals = pd.concat(dfs)\n",
    "totals.head()\n",
    "totals.tail()\n",
    "\n",
    "totals.to_csv(\"was_player_totals.csv\")\n",
    "\n",
    "players = pd.read_csv(\"was_player_totals.csv\")\n",
    "players.head()\n",
    "from unidecode import unidecode\n",
    "players['Player'] = players['Player'].apply(unidecode)\n",
    "#players['Unnamed: 1'] = players['Unnamed: 1'].apply(unidecode)\n",
    "players.to_csv(\"was_player_totals.csv\")"
   ]
  },
  {
   "cell_type": "code",
   "execution_count": 23,
   "id": "e5ec95b5-7047-4dc0-ae63-6e06ed18a2cb",
   "metadata": {},
   "outputs": [],
   "source": [
    "years = list(range(2000, 2024))"
   ]
  },
  {
   "cell_type": "code",
   "execution_count": 24,
   "id": "40382b79-273f-40fc-95b8-0915535c0c75",
   "metadata": {},
   "outputs": [],
   "source": [
    "from bs4 import BeautifulSoup\n",
    "\n",
    "dfs = []\n",
    "for year in years:\n",
    "    with open(\"../WAS/{}.html\".format(year), encoding=\"utf-8\") as f:\n",
    "        page = f.read()\n",
    "    \n",
    "    soup = BeautifulSoup(page, 'html.parser')\n",
    "    player_table = soup.find_all(id=\"div_salaries2\")[0]\n",
    "    player_df = pd.read_html(str(player_table))[0]\n",
    "    player_df[\"Year\"] = year\n",
    "    dfs.append(player_df)"
   ]
  },
  {
   "cell_type": "code",
   "execution_count": 25,
   "id": "ed62917e-4b12-467c-8717-aceddf5ac3aa",
   "metadata": {},
   "outputs": [],
   "source": [
    "salaries = pd.concat(dfs)\n",
    "salaries.head()\n",
    "salaries.tail()\n",
    "\n",
    "salaries.to_csv(\"was_player_salaries.csv\")\n",
    "\n",
    "players = pd.read_csv(\"was_player_salaries.csv\")\n",
    "players.head()\n",
    "from unidecode import unidecode\n",
    "#players['Player'] = players['Player'].apply(unidecode)\n",
    "players['Unnamed: 1'] = players['Unnamed: 1'].apply(unidecode)\n",
    "players.to_csv(\"was_player_salaries.csv\")"
   ]
  },
  {
   "cell_type": "code",
   "execution_count": null,
   "id": "7a90c366-d465-4599-8623-6ff36333a605",
   "metadata": {},
   "outputs": [],
   "source": []
  },
  {
   "cell_type": "code",
   "execution_count": null,
   "id": "94b14ed6-8840-419e-abc0-898b4789387b",
   "metadata": {},
   "outputs": [],
   "source": []
  }
 ],
 "metadata": {
  "kernelspec": {
   "display_name": "Python 3 (ipykernel)",
   "language": "python",
   "name": "python3"
  },
  "language_info": {
   "codemirror_mode": {
    "name": "ipython",
    "version": 3
   },
   "file_extension": ".py",
   "mimetype": "text/x-python",
   "name": "python",
   "nbconvert_exporter": "python",
   "pygments_lexer": "ipython3",
   "version": "3.10.9"
  }
 },
 "nbformat": 4,
 "nbformat_minor": 5
}
