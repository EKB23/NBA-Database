{
 "cells": [
  {
   "cell_type": "code",
   "execution_count": 16,
   "id": "a24ac610-7ea0-427d-a332-e9571d537338",
   "metadata": {},
   "outputs": [
    {
     "name": "stdout",
     "output_type": "stream",
     "text": [
      "Requirement already satisfied: selenium in c:\\users\\ericr\\anaconda3\\lib\\site-packages (4.9.1)\n",
      "Requirement already satisfied: certifi>=2021.10.8 in c:\\users\\ericr\\anaconda3\\lib\\site-packages (from selenium) (2023.5.7)\n",
      "Requirement already satisfied: trio-websocket~=0.9 in c:\\users\\ericr\\anaconda3\\lib\\site-packages (from selenium) (0.10.2)\n",
      "Requirement already satisfied: urllib3[socks]<3,>=1.26 in c:\\users\\ericr\\anaconda3\\lib\\site-packages (from selenium) (1.26.15)\n",
      "Requirement already satisfied: trio~=0.17 in c:\\users\\ericr\\anaconda3\\lib\\site-packages (from selenium) (0.22.0)\n",
      "Requirement already satisfied: sniffio in c:\\users\\ericr\\anaconda3\\lib\\site-packages (from trio~=0.17->selenium) (1.2.0)\n",
      "Requirement already satisfied: attrs>=19.2.0 in c:\\users\\ericr\\anaconda3\\lib\\site-packages (from trio~=0.17->selenium) (22.1.0)\n",
      "Requirement already satisfied: async-generator>=1.9 in c:\\users\\ericr\\anaconda3\\lib\\site-packages (from trio~=0.17->selenium) (1.10)\n",
      "Requirement already satisfied: idna in c:\\users\\ericr\\anaconda3\\lib\\site-packages (from trio~=0.17->selenium) (3.4)\n",
      "Requirement already satisfied: exceptiongroup>=1.0.0rc9 in c:\\users\\ericr\\anaconda3\\lib\\site-packages (from trio~=0.17->selenium) (1.1.1)\n",
      "Requirement already satisfied: sortedcontainers in c:\\users\\ericr\\anaconda3\\lib\\site-packages (from trio~=0.17->selenium) (2.4.0)\n",
      "Requirement already satisfied: outcome in c:\\users\\ericr\\anaconda3\\lib\\site-packages (from trio~=0.17->selenium) (1.2.0)\n",
      "Requirement already satisfied: cffi>=1.14 in c:\\users\\ericr\\anaconda3\\lib\\site-packages (from trio~=0.17->selenium) (1.15.1)\n",
      "Requirement already satisfied: wsproto>=0.14 in c:\\users\\ericr\\anaconda3\\lib\\site-packages (from trio-websocket~=0.9->selenium) (1.2.0)\n",
      "Requirement already satisfied: PySocks!=1.5.7,<2.0,>=1.5.6 in c:\\users\\ericr\\anaconda3\\lib\\site-packages (from urllib3[socks]<3,>=1.26->selenium) (1.7.1)\n",
      "Requirement already satisfied: pycparser in c:\\users\\ericr\\anaconda3\\lib\\site-packages (from cffi>=1.14->trio~=0.17->selenium) (2.21)\n",
      "Requirement already satisfied: h11<1,>=0.9.0 in c:\\users\\ericr\\anaconda3\\lib\\site-packages (from wsproto>=0.14->trio-websocket~=0.9->selenium) (0.14.0)\n",
      "Requirement already satisfied: pandas in c:\\users\\ericr\\anaconda3\\lib\\site-packages (2.0.2)\n",
      "Requirement already satisfied: pytz>=2020.1 in c:\\users\\ericr\\anaconda3\\lib\\site-packages (from pandas) (2022.7)\n",
      "Requirement already satisfied: numpy>=1.21.0 in c:\\users\\ericr\\anaconda3\\lib\\site-packages (from pandas) (1.24.3)\n",
      "Requirement already satisfied: python-dateutil>=2.8.2 in c:\\users\\ericr\\anaconda3\\lib\\site-packages (from pandas) (2.8.2)\n",
      "Requirement already satisfied: tzdata>=2022.1 in c:\\users\\ericr\\anaconda3\\lib\\site-packages (from pandas) (2023.3)\n",
      "Requirement already satisfied: six>=1.5 in c:\\users\\ericr\\anaconda3\\lib\\site-packages (from python-dateutil>=2.8.2->pandas) (1.16.0)\n",
      "Requirement already satisfied: unidecode in c:\\users\\ericr\\anaconda3\\lib\\site-packages (1.3.6)\n"
     ]
    }
   ],
   "source": [
    "!pip install selenium\n",
    "from selenium import webdriver\n",
    "from selenium.webdriver.common.keys import Keys\n",
    "import time\n",
    "import requests\n",
    "import shutil\n",
    "import time\n",
    "!pip install pandas\n",
    "import pandas as pd\n",
    "!pip install unidecode\n",
    "import unidecode"
   ]
  },
  {
   "cell_type": "code",
   "execution_count": 2,
   "id": "c17785da-d5cc-4bab-9a26-3b1d3529c213",
   "metadata": {},
   "outputs": [
    {
     "name": "stderr",
     "output_type": "stream",
     "text": [
      "C:\\Users\\ericr\\AppData\\Local\\Temp\\ipykernel_7272\\2497404269.py:1: DeprecationWarning: executable_path has been deprecated, please pass in a Service object\n",
      "  driver = webdriver.Chrome(\n"
     ]
    }
   ],
   "source": [
    "driver = webdriver.Chrome(\n",
    "    executable_path=\"/Users/ericr/chromedriver_32/chromedriver\"\n",
    "    )"
   ]
  },
  {
   "cell_type": "code",
   "execution_count": 17,
   "id": "3d6b4687-90fb-4b03-9de2-fd640e8c43e8",
   "metadata": {},
   "outputs": [],
   "source": [
    "years = list(range(1960, 2024))"
   ]
  },
  {
   "cell_type": "code",
   "execution_count": 10,
   "id": "4554e1c9-b16f-4725-8a56-5e907ba9134c",
   "metadata": {},
   "outputs": [],
   "source": [
    "team_stats_url = \"https://www.basketball-reference.com/teams/CIN/{}.html\"\n",
    "\n",
    "for year in years:\n",
    "    url = team_stats_url.format(year)\n",
    "    \n",
    "    driver.get(url)\n",
    "    driver.execute_script(\"window.scrollTo(1,10000)\")\n",
    "    time.sleep(15)\n",
    "    \n",
    "    with open(\"SAC/{}.html\".format(year), \"w+\", encoding=\"utf-8\") as f:\n",
    "        f.write(driver.page_source)"
   ]
  },
  {
   "cell_type": "code",
   "execution_count": 18,
   "id": "673d1afb-aec3-41f2-998c-b618736a0498",
   "metadata": {},
   "outputs": [],
   "source": [
    "from bs4 import BeautifulSoup\n",
    "\n",
    "dfs = []\n",
    "for year in years:\n",
    "    with open(\"../SAC/{}.html\".format(year), encoding=\"utf-8\") as f:\n",
    "        page = f.read()\n",
    "    \n",
    "    soup = BeautifulSoup(page, 'html.parser')\n",
    "    player_table = soup.find_all(id=\"div_per_game\")[0]\n",
    "    player_df = pd.read_html(str(player_table))[0]\n",
    "    player_df[\"Year\"] = year\n",
    "    dfs.append(player_df)"
   ]
  },
  {
   "cell_type": "code",
   "execution_count": 19,
   "id": "2bbfde6c-6e8a-4778-a45b-169d50b69a2e",
   "metadata": {},
   "outputs": [],
   "source": [
    "per_game_stats = pd.concat(dfs)\n",
    "per_game_stats.head()\n",
    "per_game_stats.tail()\n",
    "per_game_stats.to_csv(\"sac_per_game_stats.csv\")\n",
    "\n",
    "players = pd.read_csv(\"sac_per_game_stats.csv\")\n",
    "players.head()\n",
    "from unidecode import unidecode\n",
    "players['Player'] = players['Player'].apply(unidecode)\n",
    "#players['Unnamed: 1'] = players['Unnamed: 1'].apply(unidecode)\n",
    "players.to_csv(\"sac_per_game_stats.csv\")"
   ]
  },
  {
   "cell_type": "code",
   "execution_count": 20,
   "id": "2575bf6d-f833-4271-8bfa-4df8ff39756d",
   "metadata": {},
   "outputs": [],
   "source": [
    "from bs4 import BeautifulSoup\n",
    "\n",
    "dfs = []\n",
    "for year in years:\n",
    "    with open(\"../SAC/{}.html\".format(year), encoding=\"utf-8\") as f:\n",
    "        page = f.read()\n",
    "    \n",
    "    soup = BeautifulSoup(page, 'html.parser')\n",
    "    player_table = soup.find_all(id=\"div_team_and_opponent\")[0]\n",
    "    player_df = pd.read_html(str(player_table))[0]\n",
    "    player_df[\"Year\"] = year\n",
    "    dfs.append(player_df)"
   ]
  },
  {
   "cell_type": "code",
   "execution_count": 21,
   "id": "63e14322-e7c8-4952-b0ec-1fb82cbe72e5",
   "metadata": {},
   "outputs": [],
   "source": [
    "team_opponents_stats = pd.concat(dfs)\n",
    "team_opponents_stats.head()\n",
    "team_opponents_stats.tail()\n",
    "team_opponents_stats.to_csv(\"sac_team_opponents_stats.csv\")"
   ]
  },
  {
   "cell_type": "code",
   "execution_count": 22,
   "id": "0a655800-adb9-4adc-aeb4-22efbc7de7b1",
   "metadata": {},
   "outputs": [],
   "source": [
    "from bs4 import BeautifulSoup\n",
    "\n",
    "dfs = []\n",
    "for year in years:\n",
    "    with open(\"../SAC/{}.html\".format(year), encoding=\"utf-8\") as f:\n",
    "        page = f.read()\n",
    "    \n",
    "    soup = BeautifulSoup(page, 'html.parser')\n",
    "    player_table = soup.find_all(id=\"div_totals\")[0]\n",
    "    player_df = pd.read_html(str(player_table))[0][:-1]\n",
    "    player_df[\"Year\"] = year\n",
    "    dfs.append(player_df)"
   ]
  },
  {
   "cell_type": "code",
   "execution_count": 23,
   "id": "6f880d46-2e4e-4132-a2b7-418e7eea7b63",
   "metadata": {},
   "outputs": [],
   "source": [
    "totals = pd.concat(dfs)\n",
    "totals.head()\n",
    "totals.tail()\n",
    "totals.to_csv(\"sac_player_totals.csv\")\n",
    "\n",
    "players = pd.read_csv(\"sac_player_totals.csv\")\n",
    "players.head()\n",
    "from unidecode import unidecode\n",
    "players['Player'] = players['Player'].apply(unidecode)\n",
    "#players['Unnamed: 1'] = players['Unnamed: 1'].apply(unidecode)\n",
    "players.to_csv(\"sac_player_totals.csv\")"
   ]
  },
  {
   "cell_type": "code",
   "execution_count": 24,
   "id": "66bb7976-ea35-4419-9eeb-ba81b8bb8f9a",
   "metadata": {},
   "outputs": [],
   "source": [
    "years = list(range(2000, 2024))"
   ]
  },
  {
   "cell_type": "code",
   "execution_count": 25,
   "id": "5e245736-f4b4-4f2f-9d72-931a2ace3fc2",
   "metadata": {},
   "outputs": [],
   "source": [
    "from bs4 import BeautifulSoup\n",
    "\n",
    "dfs = []\n",
    "for year in years:\n",
    "    with open(\"../SAC/{}.html\".format(year), encoding=\"utf-8\") as f:\n",
    "        page = f.read()\n",
    "    \n",
    "    soup = BeautifulSoup(page, 'html.parser')\n",
    "    player_table = soup.find_all(id=\"div_salaries2\")[0]\n",
    "    player_df = pd.read_html(str(player_table))[0]\n",
    "    player_df[\"Year\"] = year\n",
    "    dfs.append(player_df)"
   ]
  },
  {
   "cell_type": "code",
   "execution_count": 26,
   "id": "ff5bdded-0878-4250-80ad-f2f71a50226d",
   "metadata": {},
   "outputs": [],
   "source": [
    "salaries = pd.concat(dfs)\n",
    "salaries.head()\n",
    "salaries.tail()\n",
    "salaries.to_csv(\"sac_player_salaries.csv\")\n",
    "\n",
    "players = pd.read_csv(\"sac_player_salaries.csv\")\n",
    "players.head()\n",
    "from unidecode import unidecode\n",
    "#players['Player'] = players['Player'].apply(unidecode)\n",
    "players['Unnamed: 1'] = players['Unnamed: 1'].apply(unidecode)\n",
    "players.to_csv(\"sac_player_salaries.csv\")"
   ]
  },
  {
   "cell_type": "code",
   "execution_count": null,
   "id": "1465ca23-5fe0-49ac-b855-491a7cc8bccd",
   "metadata": {},
   "outputs": [],
   "source": []
  }
 ],
 "metadata": {
  "kernelspec": {
   "display_name": "Python 3 (ipykernel)",
   "language": "python",
   "name": "python3"
  },
  "language_info": {
   "codemirror_mode": {
    "name": "ipython",
    "version": 3
   },
   "file_extension": ".py",
   "mimetype": "text/x-python",
   "name": "python",
   "nbconvert_exporter": "python",
   "pygments_lexer": "ipython3",
   "version": "3.10.9"
  }
 },
 "nbformat": 4,
 "nbformat_minor": 5
}
