{
 "cells": [
  {
   "cell_type": "code",
   "execution_count": 15,
   "id": "d939c6c1-175d-431b-ab32-f813bcbe4c44",
   "metadata": {},
   "outputs": [
    {
     "name": "stdout",
     "output_type": "stream",
     "text": [
      "Requirement already satisfied: selenium in c:\\users\\ericr\\anaconda3\\lib\\site-packages (4.9.1)\n",
      "Requirement already satisfied: certifi>=2021.10.8 in c:\\users\\ericr\\anaconda3\\lib\\site-packages (from selenium) (2023.5.7)\n",
      "Requirement already satisfied: trio-websocket~=0.9 in c:\\users\\ericr\\anaconda3\\lib\\site-packages (from selenium) (0.10.2)\n",
      "Requirement already satisfied: trio~=0.17 in c:\\users\\ericr\\anaconda3\\lib\\site-packages (from selenium) (0.22.0)\n",
      "Requirement already satisfied: urllib3[socks]<3,>=1.26 in c:\\users\\ericr\\anaconda3\\lib\\site-packages (from selenium) (1.26.15)\n",
      "Requirement already satisfied: async-generator>=1.9 in c:\\users\\ericr\\anaconda3\\lib\\site-packages (from trio~=0.17->selenium) (1.10)\n",
      "Requirement already satisfied: idna in c:\\users\\ericr\\anaconda3\\lib\\site-packages (from trio~=0.17->selenium) (3.4)\n",
      "Requirement already satisfied: cffi>=1.14 in c:\\users\\ericr\\anaconda3\\lib\\site-packages (from trio~=0.17->selenium) (1.15.1)\n",
      "Requirement already satisfied: outcome in c:\\users\\ericr\\anaconda3\\lib\\site-packages (from trio~=0.17->selenium) (1.2.0)\n",
      "Requirement already satisfied: sniffio in c:\\users\\ericr\\anaconda3\\lib\\site-packages (from trio~=0.17->selenium) (1.2.0)\n",
      "Requirement already satisfied: attrs>=19.2.0 in c:\\users\\ericr\\anaconda3\\lib\\site-packages (from trio~=0.17->selenium) (22.1.0)\n",
      "Requirement already satisfied: sortedcontainers in c:\\users\\ericr\\anaconda3\\lib\\site-packages (from trio~=0.17->selenium) (2.4.0)\n",
      "Requirement already satisfied: exceptiongroup>=1.0.0rc9 in c:\\users\\ericr\\anaconda3\\lib\\site-packages (from trio~=0.17->selenium) (1.1.1)\n",
      "Requirement already satisfied: wsproto>=0.14 in c:\\users\\ericr\\anaconda3\\lib\\site-packages (from trio-websocket~=0.9->selenium) (1.2.0)\n",
      "Requirement already satisfied: PySocks!=1.5.7,<2.0,>=1.5.6 in c:\\users\\ericr\\anaconda3\\lib\\site-packages (from urllib3[socks]<3,>=1.26->selenium) (1.7.1)\n",
      "Requirement already satisfied: pycparser in c:\\users\\ericr\\anaconda3\\lib\\site-packages (from cffi>=1.14->trio~=0.17->selenium) (2.21)\n",
      "Requirement already satisfied: h11<1,>=0.9.0 in c:\\users\\ericr\\anaconda3\\lib\\site-packages (from wsproto>=0.14->trio-websocket~=0.9->selenium) (0.14.0)\n",
      "Requirement already satisfied: pandas in c:\\users\\ericr\\anaconda3\\lib\\site-packages (2.0.2)\n",
      "Requirement already satisfied: python-dateutil>=2.8.2 in c:\\users\\ericr\\anaconda3\\lib\\site-packages (from pandas) (2.8.2)\n",
      "Requirement already satisfied: tzdata>=2022.1 in c:\\users\\ericr\\anaconda3\\lib\\site-packages (from pandas) (2023.3)\n",
      "Requirement already satisfied: pytz>=2020.1 in c:\\users\\ericr\\anaconda3\\lib\\site-packages (from pandas) (2022.7)\n",
      "Requirement already satisfied: numpy>=1.21.0 in c:\\users\\ericr\\anaconda3\\lib\\site-packages (from pandas) (1.24.3)\n",
      "Requirement already satisfied: six>=1.5 in c:\\users\\ericr\\anaconda3\\lib\\site-packages (from python-dateutil>=2.8.2->pandas) (1.16.0)\n",
      "Requirement already satisfied: unidecode in c:\\users\\ericr\\anaconda3\\lib\\site-packages (1.3.6)\n"
     ]
    }
   ],
   "source": [
    "!pip install selenium\n",
    "from selenium import webdriver\n",
    "from selenium.webdriver.common.keys import Keys\n",
    "import time\n",
    "import requests\n",
    "import shutil\n",
    "import time\n",
    "!pip install pandas\n",
    "import pandas as pd\n",
    "!pip install unidecode\n",
    "import unidecode"
   ]
  },
  {
   "cell_type": "code",
   "execution_count": 2,
   "id": "7b99e9d3-1d96-4391-b359-4f0521ad8e2d",
   "metadata": {},
   "outputs": [
    {
     "name": "stderr",
     "output_type": "stream",
     "text": [
      "C:\\Users\\ericr\\AppData\\Local\\Temp\\ipykernel_28056\\2497404269.py:1: DeprecationWarning: executable_path has been deprecated, please pass in a Service object\n",
      "  driver = webdriver.Chrome(\n"
     ]
    }
   ],
   "source": [
    "driver = webdriver.Chrome(\n",
    "    executable_path=\"/Users/ericr/chromedriver_32/chromedriver\"\n",
    "    )"
   ]
  },
  {
   "cell_type": "code",
   "execution_count": 16,
   "id": "99161df2-c44f-4f18-a47a-376a5b13938b",
   "metadata": {},
   "outputs": [],
   "source": [
    "years = list(range(1996, 2024))"
   ]
  },
  {
   "cell_type": "code",
   "execution_count": 4,
   "id": "66c1219d-dd82-4840-a805-3e1fefccbcdf",
   "metadata": {},
   "outputs": [],
   "source": [
    "team_stats_url = \"https://www.basketball-reference.com/teams/TOR/{}.html\"\n",
    "\n",
    "for year in years:\n",
    "    url = team_stats_url.format(year)\n",
    "    \n",
    "    driver.get(url)\n",
    "    driver.execute_script(\"window.scrollTo(1,10000)\")\n",
    "    time.sleep(15)\n",
    "    \n",
    "    with open(\"TOR/{}.html\".format(year), \"w+\", encoding=\"utf-8\") as f:\n",
    "        f.write(driver.page_source)"
   ]
  },
  {
   "cell_type": "code",
   "execution_count": 17,
   "id": "db3c6a23-76a1-4d50-b92c-f00aaf9c28cb",
   "metadata": {},
   "outputs": [],
   "source": [
    "from bs4 import BeautifulSoup\n",
    "\n",
    "dfs = []\n",
    "for year in years:\n",
    "    with open(\"../TOR/{}.html\".format(year), encoding=\"utf-8\") as f:\n",
    "        page = f.read()\n",
    "    \n",
    "    soup = BeautifulSoup(page, 'html.parser')\n",
    "    player_table = soup.find_all(id=\"div_per_game\")[0]\n",
    "    player_df = pd.read_html(str(player_table))[0]\n",
    "    player_df[\"Year\"] = year\n",
    "    dfs.append(player_df)"
   ]
  },
  {
   "cell_type": "code",
   "execution_count": 18,
   "id": "0b176773-2f37-4ecb-9959-73162e3010aa",
   "metadata": {},
   "outputs": [],
   "source": [
    "per_game_stats = pd.concat(dfs)\n",
    "per_game_stats.head()\n",
    "per_game_stats.tail()\n",
    "\n",
    "per_game_stats.to_csv(\"tor_per_game_stats.csv\")\n",
    "\n",
    "players = pd.read_csv(\"tor_per_game_stats.csv\")\n",
    "players.head()\n",
    "from unidecode import unidecode\n",
    "players['Player'] = players['Player'].apply(unidecode)\n",
    "#players['Unnamed: 1'] = players['Unnamed: 1'].apply(unidecode)\n",
    "players.to_csv(\"tor_per_game_stats.csv\")"
   ]
  },
  {
   "cell_type": "code",
   "execution_count": 19,
   "id": "bb18900d-d67b-4dde-9d69-6cfc3de5694f",
   "metadata": {},
   "outputs": [],
   "source": [
    "from bs4 import BeautifulSoup\n",
    "\n",
    "dfs = []\n",
    "for year in years:\n",
    "    with open(\"../TOR/{}.html\".format(year), encoding=\"utf-8\") as f:\n",
    "        page = f.read()\n",
    "    \n",
    "    soup = BeautifulSoup(page, 'html.parser')\n",
    "    player_table = soup.find_all(id=\"div_team_and_opponent\")[0]\n",
    "    player_df = pd.read_html(str(player_table))[0]\n",
    "    player_df[\"Year\"] = year\n",
    "    dfs.append(player_df)"
   ]
  },
  {
   "cell_type": "code",
   "execution_count": 20,
   "id": "20de4790-bb84-4ba1-8d8c-a05d4dc88001",
   "metadata": {},
   "outputs": [],
   "source": [
    "team_opponents_stats = pd.concat(dfs)\n",
    "team_opponents_stats.head()\n",
    "team_opponents_stats.tail()\n",
    "team_opponents_stats.to_csv(\"tor_team_opponents_stats.csv\")"
   ]
  },
  {
   "cell_type": "code",
   "execution_count": 21,
   "id": "31d35ebb-6a8a-4f69-8c90-54f4a2650112",
   "metadata": {},
   "outputs": [],
   "source": [
    "from bs4 import BeautifulSoup\n",
    "\n",
    "dfs = []\n",
    "for year in years:\n",
    "    with open(\"../TOR/{}.html\".format(year), encoding=\"utf-8\") as f:\n",
    "        page = f.read()\n",
    "    \n",
    "    soup = BeautifulSoup(page, 'html.parser')\n",
    "    player_table = soup.find_all(id=\"div_totals\")[0]\n",
    "    player_df = pd.read_html(str(player_table))[0][:-1]\n",
    "    player_df[\"Year\"] = year\n",
    "    dfs.append(player_df)"
   ]
  },
  {
   "cell_type": "code",
   "execution_count": 22,
   "id": "3911873d-22bb-40d2-bfa0-c82c4fd1d6eb",
   "metadata": {},
   "outputs": [],
   "source": [
    "totals = pd.concat(dfs)\n",
    "totals.head()\n",
    "totals.tail()\n",
    "\n",
    "totals.to_csv(\"tor_player_totals.csv\")\n",
    "\n",
    "players = pd.read_csv(\"tor_player_totals.csv\")\n",
    "players.head()\n",
    "from unidecode import unidecode\n",
    "players['Player'] = players['Player'].apply(unidecode)\n",
    "#players['Unnamed: 1'] = players['Unnamed: 1'].apply(unidecode)\n",
    "players.to_csv(\"tor_player_totals.csv\")"
   ]
  },
  {
   "cell_type": "code",
   "execution_count": 23,
   "id": "d15dd016-dd58-43f0-997a-9b7e6bebb0be",
   "metadata": {},
   "outputs": [],
   "source": [
    "years = list(range(2000, 2024))"
   ]
  },
  {
   "cell_type": "code",
   "execution_count": 24,
   "id": "bf155823-148b-4a91-afa1-77f373581ee7",
   "metadata": {},
   "outputs": [],
   "source": [
    "from bs4 import BeautifulSoup\n",
    "\n",
    "dfs = []\n",
    "for year in years:\n",
    "    with open(\"../TOR/{}.html\".format(year), encoding=\"utf-8\") as f:\n",
    "        page = f.read()\n",
    "    \n",
    "    soup = BeautifulSoup(page, 'html.parser')\n",
    "    player_table = soup.find_all(id=\"div_salaries2\")[0]\n",
    "    player_df = pd.read_html(str(player_table))[0]\n",
    "    player_df[\"Year\"] = year\n",
    "    dfs.append(player_df)"
   ]
  },
  {
   "cell_type": "code",
   "execution_count": 25,
   "id": "2bba233b-2d61-4bd5-ac0e-660d70d9caba",
   "metadata": {},
   "outputs": [],
   "source": [
    "salaries = pd.concat(dfs)\n",
    "salaries.head()\n",
    "salaries.tail()\n",
    "\n",
    "salaries.to_csv(\"tor_player_salaries.csv\")\n",
    "\n",
    "players = pd.read_csv(\"tor_player_salaries.csv\")\n",
    "players.head()\n",
    "from unidecode import unidecode\n",
    "#players['Player'] = players['Player'].apply(unidecode)\n",
    "players['Unnamed: 1'] = players['Unnamed: 1'].apply(unidecode)\n",
    "players.to_csv(\"tor_player_salaries.csv\")"
   ]
  },
  {
   "cell_type": "code",
   "execution_count": null,
   "id": "f9a385f0-58df-4a4c-8409-4752b04261f4",
   "metadata": {},
   "outputs": [],
   "source": []
  },
  {
   "cell_type": "code",
   "execution_count": null,
   "id": "fa746c89-a337-488a-a655-bf04d03d3663",
   "metadata": {},
   "outputs": [],
   "source": []
  },
  {
   "cell_type": "code",
   "execution_count": null,
   "id": "da7a38aa-27a3-49f2-a37c-5139fa4f2b8d",
   "metadata": {},
   "outputs": [],
   "source": []
  },
  {
   "cell_type": "code",
   "execution_count": null,
   "id": "0bc4cafa-c861-48f8-801e-1734bab21511",
   "metadata": {},
   "outputs": [],
   "source": []
  }
 ],
 "metadata": {
  "kernelspec": {
   "display_name": "Python 3 (ipykernel)",
   "language": "python",
   "name": "python3"
  },
  "language_info": {
   "codemirror_mode": {
    "name": "ipython",
    "version": 3
   },
   "file_extension": ".py",
   "mimetype": "text/x-python",
   "name": "python",
   "nbconvert_exporter": "python",
   "pygments_lexer": "ipython3",
   "version": "3.10.9"
  }
 },
 "nbformat": 4,
 "nbformat_minor": 5
}
