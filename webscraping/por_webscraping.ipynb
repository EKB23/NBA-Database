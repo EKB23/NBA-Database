{
 "cells": [
  {
   "cell_type": "code",
   "execution_count": 21,
   "id": "9da357bc-ee1e-48c2-ad0c-58a008d691ad",
   "metadata": {
    "tags": []
   },
   "outputs": [
    {
     "name": "stdout",
     "output_type": "stream",
     "text": [
      "Requirement already satisfied: selenium in c:\\users\\ericr\\anaconda3\\lib\\site-packages (4.9.1)\n",
      "Requirement already satisfied: certifi>=2021.10.8 in c:\\users\\ericr\\anaconda3\\lib\\site-packages (from selenium) (2023.5.7)\n",
      "Requirement already satisfied: urllib3[socks]<3,>=1.26 in c:\\users\\ericr\\anaconda3\\lib\\site-packages (from selenium) (1.26.15)\n",
      "Requirement already satisfied: trio-websocket~=0.9 in c:\\users\\ericr\\anaconda3\\lib\\site-packages (from selenium) (0.10.2)\n",
      "Requirement already satisfied: trio~=0.17 in c:\\users\\ericr\\anaconda3\\lib\\site-packages (from selenium) (0.22.0)\n",
      "Requirement already satisfied: async-generator>=1.9 in c:\\users\\ericr\\anaconda3\\lib\\site-packages (from trio~=0.17->selenium) (1.10)\n",
      "Requirement already satisfied: outcome in c:\\users\\ericr\\anaconda3\\lib\\site-packages (from trio~=0.17->selenium) (1.2.0)\n",
      "Requirement already satisfied: exceptiongroup>=1.0.0rc9 in c:\\users\\ericr\\anaconda3\\lib\\site-packages (from trio~=0.17->selenium) (1.1.1)\n",
      "Requirement already satisfied: idna in c:\\users\\ericr\\anaconda3\\lib\\site-packages (from trio~=0.17->selenium) (3.4)\n",
      "Requirement already satisfied: sniffio in c:\\users\\ericr\\anaconda3\\lib\\site-packages (from trio~=0.17->selenium) (1.2.0)\n",
      "Requirement already satisfied: attrs>=19.2.0 in c:\\users\\ericr\\anaconda3\\lib\\site-packages (from trio~=0.17->selenium) (22.1.0)\n",
      "Requirement already satisfied: sortedcontainers in c:\\users\\ericr\\anaconda3\\lib\\site-packages (from trio~=0.17->selenium) (2.4.0)\n",
      "Requirement already satisfied: cffi>=1.14 in c:\\users\\ericr\\anaconda3\\lib\\site-packages (from trio~=0.17->selenium) (1.15.1)\n",
      "Requirement already satisfied: wsproto>=0.14 in c:\\users\\ericr\\anaconda3\\lib\\site-packages (from trio-websocket~=0.9->selenium) (1.2.0)\n",
      "Requirement already satisfied: PySocks!=1.5.7,<2.0,>=1.5.6 in c:\\users\\ericr\\anaconda3\\lib\\site-packages (from urllib3[socks]<3,>=1.26->selenium) (1.7.1)\n",
      "Requirement already satisfied: pycparser in c:\\users\\ericr\\anaconda3\\lib\\site-packages (from cffi>=1.14->trio~=0.17->selenium) (2.21)\n",
      "Requirement already satisfied: h11<1,>=0.9.0 in c:\\users\\ericr\\anaconda3\\lib\\site-packages (from wsproto>=0.14->trio-websocket~=0.9->selenium) (0.14.0)\n",
      "Requirement already satisfied: pandas in c:\\users\\ericr\\anaconda3\\lib\\site-packages (2.0.2)\n",
      "Requirement already satisfied: tzdata>=2022.1 in c:\\users\\ericr\\anaconda3\\lib\\site-packages (from pandas) (2023.3)\n",
      "Requirement already satisfied: python-dateutil>=2.8.2 in c:\\users\\ericr\\anaconda3\\lib\\site-packages (from pandas) (2.8.2)\n",
      "Requirement already satisfied: pytz>=2020.1 in c:\\users\\ericr\\anaconda3\\lib\\site-packages (from pandas) (2022.7)\n",
      "Requirement already satisfied: numpy>=1.21.0 in c:\\users\\ericr\\anaconda3\\lib\\site-packages (from pandas) (1.24.3)\n",
      "Requirement already satisfied: six>=1.5 in c:\\users\\ericr\\anaconda3\\lib\\site-packages (from python-dateutil>=2.8.2->pandas) (1.16.0)\n",
      "Requirement already satisfied: unidecode in c:\\users\\ericr\\anaconda3\\lib\\site-packages (1.3.6)\n"
     ]
    }
   ],
   "source": [
    "!pip install selenium\n",
    "from selenium import webdriver\n",
    "from selenium.webdriver.common.keys import Keys\n",
    "import time\n",
    "import requests\n",
    "import shutil\n",
    "import time\n",
    "!pip install pandas\n",
    "import pandas as pd\n",
    "!pip install unidecode\n",
    "import unidecode"
   ]
  },
  {
   "cell_type": "code",
   "execution_count": 2,
   "id": "f8cb9516-71ff-407b-88db-5cb81a837700",
   "metadata": {},
   "outputs": [
    {
     "name": "stderr",
     "output_type": "stream",
     "text": [
      "C:\\Users\\ericr\\AppData\\Local\\Temp\\ipykernel_6556\\2497404269.py:1: DeprecationWarning: executable_path has been deprecated, please pass in a Service object\n",
      "  driver = webdriver.Chrome(\n"
     ]
    }
   ],
   "source": [
    "driver = webdriver.Chrome(\n",
    "    executable_path=\"/Users/ericr/chromedriver_32/chromedriver\"\n",
    "    )"
   ]
  },
  {
   "cell_type": "code",
   "execution_count": 22,
   "id": "aeca13c5-9d84-4b5e-9f7a-343dfa77ca4f",
   "metadata": {},
   "outputs": [],
   "source": [
    "years = list(range(1971, 2024))"
   ]
  },
  {
   "cell_type": "code",
   "execution_count": 4,
   "id": "e0361205-9554-46f7-a028-5c144ce4a329",
   "metadata": {},
   "outputs": [],
   "source": [
    "team_stats_url = \"https://www.basketball-reference.com/teams/PHI/{}.html\""
   ]
  },
  {
   "cell_type": "code",
   "execution_count": 3,
   "id": "6cf9b4f1-0b1c-4833-b589-7b68de8e376e",
   "metadata": {},
   "outputs": [
    {
     "ename": "NameError",
     "evalue": "name 'driver' is not defined",
     "output_type": "error",
     "traceback": [
      "\u001b[1;31m---------------------------------------------------------------------------\u001b[0m",
      "\u001b[1;31mNameError\u001b[0m                                 Traceback (most recent call last)",
      "Cell \u001b[1;32mIn[3], line 6\u001b[0m\n\u001b[0;32m      3\u001b[0m \u001b[38;5;28;01mfor\u001b[39;00m year \u001b[38;5;129;01min\u001b[39;00m years:\n\u001b[0;32m      4\u001b[0m     url \u001b[38;5;241m=\u001b[39m team_stats_url\u001b[38;5;241m.\u001b[39mformat(year)\n\u001b[1;32m----> 6\u001b[0m     \u001b[43mdriver\u001b[49m\u001b[38;5;241m.\u001b[39mget(url)\n\u001b[0;32m      7\u001b[0m     driver\u001b[38;5;241m.\u001b[39mexecute_script(\u001b[38;5;124m\"\u001b[39m\u001b[38;5;124mwindow.scrollTo(1,10000)\u001b[39m\u001b[38;5;124m\"\u001b[39m)\n\u001b[0;32m      8\u001b[0m     time\u001b[38;5;241m.\u001b[39msleep(\u001b[38;5;241m15\u001b[39m)\n",
      "\u001b[1;31mNameError\u001b[0m: name 'driver' is not defined"
     ]
    }
   ],
   "source": [
    "team_stats_url = \"https://www.basketball-reference.com/teams/POR/{}.html\"\n",
    "\n",
    "for year in years:\n",
    "    url = team_stats_url.format(year)\n",
    "    \n",
    "    driver.get(url)\n",
    "    driver.execute_script(\"window.scrollTo(1,10000)\")\n",
    "    time.sleep(15)\n",
    "    \n",
    "    with open(\"POR/{}.html\".format(year), \"w+\", encoding=\"utf-8\") as f:\n",
    "        f.write(driver.page_source)\n",
    "        "
   ]
  },
  {
   "cell_type": "code",
   "execution_count": 23,
   "id": "d3689cbc-2599-40f7-b9be-39b413a9663c",
   "metadata": {},
   "outputs": [],
   "source": [
    "from bs4 import BeautifulSoup\n",
    "\n",
    "dfs = []\n",
    "for year in years:\n",
    "    with open(\"../POR/{}.html\".format(year), encoding=\"utf-8\") as f:\n",
    "        page = f.read()\n",
    "    \n",
    "    soup = BeautifulSoup(page, 'html.parser')\n",
    "    player_table = soup.find_all(id=\"div_per_game\")[0]\n",
    "    player_df = pd.read_html(str(player_table))[0]\n",
    "    player_df[\"Year\"] = year\n",
    "    dfs.append(player_df)"
   ]
  },
  {
   "cell_type": "code",
   "execution_count": 24,
   "id": "4d7560c7-7bee-407c-a4d7-3044d5690326",
   "metadata": {},
   "outputs": [],
   "source": [
    "per_game_stats = pd.concat(dfs)\n",
    "per_game_stats.head()\n",
    "per_game_stats.tail()\n",
    "per_game_stats.to_csv(\"por_per_game_stats.csv\")"
   ]
  },
  {
   "cell_type": "code",
   "execution_count": 25,
   "id": "72daecbc-9435-4fc1-ae49-619a6673aa56",
   "metadata": {},
   "outputs": [],
   "source": [
    "players = pd.read_csv(\"por_per_game_stats.csv\")"
   ]
  },
  {
   "cell_type": "code",
   "execution_count": 26,
   "id": "4cf861c4-ef35-476e-8530-924e2f39ae53",
   "metadata": {},
   "outputs": [],
   "source": [
    "from unidecode import unidecode\n",
    "players['Player'] = players['Player'].apply(unidecode)\n",
    "#players['Unnamed: 1'] = players['Unnamed: 1'].apply(unidecode)\n",
    "players.to_csv(\"por_per_game_stats.csv\")"
   ]
  },
  {
   "cell_type": "code",
   "execution_count": 27,
   "id": "9304b0d1-4275-4d0b-ab35-0ac3720c80a6",
   "metadata": {},
   "outputs": [],
   "source": [
    "from bs4 import BeautifulSoup\n",
    "\n",
    "dfs = []\n",
    "for year in years:\n",
    "    with open(\"../POR/{}.html\".format(year), encoding=\"utf-8\") as f:\n",
    "        page = f.read()\n",
    "    \n",
    "    soup = BeautifulSoup(page, 'html.parser')\n",
    "    player_table = soup.find_all(id=\"div_team_and_opponent\")[0]\n",
    "    player_df = pd.read_html(str(player_table))[0]\n",
    "    player_df[\"Year\"] = year\n",
    "    dfs.append(player_df)"
   ]
  },
  {
   "cell_type": "code",
   "execution_count": 28,
   "id": "881f4571-640d-4cc7-9b0a-d6f05a91cb07",
   "metadata": {},
   "outputs": [],
   "source": [
    "team_opponents_stats = pd.concat(dfs)\n",
    "team_opponents_stats.head()\n",
    "team_opponents_stats.tail()\n",
    "team_opponents_stats.to_csv(\"por_team_opponents_stats.csv\")"
   ]
  },
  {
   "cell_type": "code",
   "execution_count": 29,
   "id": "dbddaa12-b446-49fb-b645-8c54c28ed9e4",
   "metadata": {},
   "outputs": [],
   "source": [
    "from bs4 import BeautifulSoup\n",
    "\n",
    "dfs = []\n",
    "for year in years:\n",
    "    with open(\"../POR/{}.html\".format(year), encoding=\"utf-8\") as f:\n",
    "        page = f.read()\n",
    "    \n",
    "    soup = BeautifulSoup(page, 'html.parser')\n",
    "    player_table = soup.find_all(id=\"div_totals\")[0]\n",
    "    player_df = pd.read_html(str(player_table))[0][:-1]\n",
    "    player_df[\"Year\"] = year\n",
    "    dfs.append(player_df)"
   ]
  },
  {
   "cell_type": "code",
   "execution_count": 30,
   "id": "c1a7f00d-a55b-4747-b618-d30a84605597",
   "metadata": {},
   "outputs": [],
   "source": [
    "totals = pd.concat(dfs)\n",
    "totals.head()\n",
    "totals.tail()\n",
    "totals.to_csv(\"por_player_totals.csv\")\n",
    "\n",
    "players = pd.read_csv(\"por_player_totals.csv\")\n",
    "players.head()\n",
    "from unidecode import unidecode\n",
    "players['Player'] = players['Player'].apply(unidecode)\n",
    "#players['Unnamed: 1'] = players['Unnamed: 1'].apply(unidecode)\n",
    "players.to_csv(\"por_player_totals.csv\")"
   ]
  },
  {
   "cell_type": "code",
   "execution_count": 31,
   "id": "b79b7ef4-6a39-4089-8df1-207c7e832bbe",
   "metadata": {},
   "outputs": [],
   "source": [
    "years = list(range(2000, 2024))"
   ]
  },
  {
   "cell_type": "code",
   "execution_count": 32,
   "id": "cd504406-6550-40ef-a8d6-c1b60d3b179a",
   "metadata": {},
   "outputs": [],
   "source": [
    "from bs4 import BeautifulSoup\n",
    "\n",
    "dfs = []\n",
    "for year in years:\n",
    "    with open(\"../POR/{}.html\".format(year), encoding=\"utf-8\") as f:\n",
    "        page = f.read()\n",
    "    \n",
    "    soup = BeautifulSoup(page, 'html.parser')\n",
    "    player_table = soup.find_all(id=\"div_salaries2\")[0]\n",
    "    player_df = pd.read_html(str(player_table))[0]\n",
    "    player_df[\"Year\"] = year\n",
    "    dfs.append(player_df)"
   ]
  },
  {
   "cell_type": "code",
   "execution_count": 33,
   "id": "e07aea3c-2e96-4a01-80b1-2b2cda7721e5",
   "metadata": {},
   "outputs": [],
   "source": [
    "salaries = pd.concat(dfs)\n",
    "salaries.head()\n",
    "salaries.tail()\n",
    "salaries.to_csv(\"por_player_salaries.csv\")\n",
    "\n",
    "players = pd.read_csv(\"por_player_salaries.csv\")\n",
    "players.head()\n",
    "from unidecode import unidecode\n",
    "#players['Player'] = players['Player'].apply(unidecode)\n",
    "players['Unnamed: 1'] = players['Unnamed: 1'].apply(unidecode)\n",
    "players.to_csv(\"por_player_salaries.csv\")"
   ]
  },
  {
   "cell_type": "code",
   "execution_count": null,
   "id": "69b3f072-abd1-4d96-94cb-97bc89417ec3",
   "metadata": {},
   "outputs": [],
   "source": []
  },
  {
   "cell_type": "code",
   "execution_count": null,
   "id": "baf65d61-a900-4c71-83e4-0d647fbb7fdb",
   "metadata": {},
   "outputs": [],
   "source": []
  }
 ],
 "metadata": {
  "kernelspec": {
   "display_name": "Python 3 (ipykernel)",
   "language": "python",
   "name": "python3"
  },
  "language_info": {
   "codemirror_mode": {
    "name": "ipython",
    "version": 3
   },
   "file_extension": ".py",
   "mimetype": "text/x-python",
   "name": "python",
   "nbconvert_exporter": "python",
   "pygments_lexer": "ipython3",
   "version": "3.10.9"
  }
 },
 "nbformat": 4,
 "nbformat_minor": 5
}
